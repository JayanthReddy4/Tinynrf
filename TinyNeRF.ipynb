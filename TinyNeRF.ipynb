{
 "cells": [
  {
   "cell_type": "code",
   "execution_count": 1,
   "id": "765f08d7-d707-45bc-8893-f888cde0352c",
   "metadata": {},
   "outputs": [
    {
     "name": "stdout",
     "output_type": "stream",
     "text": [
      "Requirement already satisfied: torch in c:\\users\\jayanth reddy\\appdata\\local\\programs\\python\\python38\\lib\\site-packages (2.4.1)\n",
      "Requirement already satisfied: torchvision in c:\\users\\jayanth reddy\\appdata\\local\\programs\\python\\python38\\lib\\site-packages (0.19.1)\n",
      "Requirement already satisfied: numpy in c:\\users\\jayanth reddy\\appdata\\local\\programs\\python\\python38\\lib\\site-packages (1.24.4)\n",
      "Requirement already satisfied: matplotlib in c:\\users\\jayanth reddy\\appdata\\local\\programs\\python\\python38\\lib\\site-packages (3.7.5)\n",
      "Requirement already satisfied: tqdm in c:\\users\\jayanth reddy\\appdata\\local\\programs\\python\\python38\\lib\\site-packages (4.67.1)\n",
      "Requirement already satisfied: filelock in c:\\users\\jayanth reddy\\appdata\\local\\programs\\python\\python38\\lib\\site-packages (from torch) (3.16.1)\n",
      "Requirement already satisfied: typing-extensions>=4.8.0 in c:\\users\\jayanth reddy\\appdata\\local\\programs\\python\\python38\\lib\\site-packages (from torch) (4.12.2)\n",
      "Requirement already satisfied: sympy in c:\\users\\jayanth reddy\\appdata\\local\\programs\\python\\python38\\lib\\site-packages (from torch) (1.13.3)\n",
      "Requirement already satisfied: networkx in c:\\users\\jayanth reddy\\appdata\\local\\programs\\python\\python38\\lib\\site-packages (from torch) (3.1)\n",
      "Requirement already satisfied: jinja2 in c:\\users\\jayanth reddy\\appdata\\local\\programs\\python\\python38\\lib\\site-packages (from torch) (3.1.4)\n",
      "Requirement already satisfied: fsspec in c:\\users\\jayanth reddy\\appdata\\local\\programs\\python\\python38\\lib\\site-packages (from torch) (2024.9.0)\n",
      "Requirement already satisfied: pillow!=8.3.*,>=5.3.0 in c:\\users\\jayanth reddy\\appdata\\local\\programs\\python\\python38\\lib\\site-packages (from torchvision) (10.4.0)\n",
      "Requirement already satisfied: contourpy>=1.0.1 in c:\\users\\jayanth reddy\\appdata\\local\\programs\\python\\python38\\lib\\site-packages (from matplotlib) (1.1.1)\n",
      "Requirement already satisfied: cycler>=0.10 in c:\\users\\jayanth reddy\\appdata\\local\\programs\\python\\python38\\lib\\site-packages (from matplotlib) (0.12.1)\n",
      "Requirement already satisfied: fonttools>=4.22.0 in c:\\users\\jayanth reddy\\appdata\\local\\programs\\python\\python38\\lib\\site-packages (from matplotlib) (4.55.7)\n",
      "Requirement already satisfied: kiwisolver>=1.0.1 in c:\\users\\jayanth reddy\\appdata\\local\\programs\\python\\python38\\lib\\site-packages (from matplotlib) (1.4.7)\n",
      "Requirement already satisfied: packaging>=20.0 in c:\\users\\jayanth reddy\\appdata\\local\\programs\\python\\python38\\lib\\site-packages (from matplotlib) (24.2)\n",
      "Requirement already satisfied: pyparsing>=2.3.1 in c:\\users\\jayanth reddy\\appdata\\local\\programs\\python\\python38\\lib\\site-packages (from matplotlib) (3.1.4)\n",
      "Requirement already satisfied: python-dateutil>=2.7 in c:\\users\\jayanth reddy\\appdata\\local\\programs\\python\\python38\\lib\\site-packages (from matplotlib) (2.9.0.post0)\n",
      "Requirement already satisfied: importlib-resources>=3.2.0 in c:\\users\\jayanth reddy\\appdata\\local\\programs\\python\\python38\\lib\\site-packages (from matplotlib) (6.4.5)\n",
      "Requirement already satisfied: colorama in c:\\users\\jayanth reddy\\appdata\\local\\programs\\python\\python38\\lib\\site-packages (from tqdm) (0.4.6)\n",
      "Requirement already satisfied: zipp>=3.1.0 in c:\\users\\jayanth reddy\\appdata\\local\\programs\\python\\python38\\lib\\site-packages (from importlib-resources>=3.2.0->matplotlib) (3.20.2)\n",
      "Requirement already satisfied: six>=1.5 in c:\\users\\jayanth reddy\\appdata\\local\\programs\\python\\python38\\lib\\site-packages (from python-dateutil>=2.7->matplotlib) (1.16.0)\n",
      "Requirement already satisfied: MarkupSafe>=2.0 in c:\\users\\jayanth reddy\\appdata\\local\\programs\\python\\python38\\lib\\site-packages (from jinja2->torch) (2.1.5)\n",
      "Requirement already satisfied: mpmath<1.4,>=1.1.0 in c:\\users\\jayanth reddy\\appdata\\local\\programs\\python\\python38\\lib\\site-packages (from sympy->torch) (1.3.0)\n"
     ]
    }
   ],
   "source": [
    "!pip install torch torchvision numpy matplotlib tqdm\n"
   ]
  },
  {
   "cell_type": "code",
   "execution_count": 2,
   "id": "565a4099-83c5-411f-be85-e6f3e16711c2",
   "metadata": {},
   "outputs": [],
   "source": [
    "import torch\n",
    "import torch.nn as nn\n",
    "import torch.nn.functional as F\n",
    "import torch.optim as optim\n",
    "import numpy as np\n",
    "import matplotlib.pyplot as plt\n",
    "from tqdm import tqdm  # For progress bar\n"
   ]
  },
  {
   "cell_type": "code",
   "execution_count": 10,
   "id": "afa13bfb-815d-440b-b73f-6e780850491e",
   "metadata": {},
   "outputs": [
    {
     "name": "stderr",
     "output_type": "stream",
     "text": [
      "  0%|                                                                                 | 1/1000 [00:02<48:48,  2.93s/it]"
     ]
    },
    {
     "name": "stdout",
     "output_type": "stream",
     "text": [
      "Epoch 0: Loss = 0.08392017334699631\n"
     ]
    },
    {
     "name": "stderr",
     "output_type": "stream",
     "text": [
      " 10%|███████▉                                                                       | 101/1000 [04:17<39:03,  2.61s/it]"
     ]
    },
    {
     "name": "stdout",
     "output_type": "stream",
     "text": [
      "Epoch 100: Loss = 0.082729771733284\n"
     ]
    },
    {
     "name": "stderr",
     "output_type": "stream",
     "text": [
      " 20%|███████████████▉                                                               | 201/1000 [08:30<34:36,  2.60s/it]"
     ]
    },
    {
     "name": "stdout",
     "output_type": "stream",
     "text": [
      "Epoch 200: Loss = 0.08354871720075607\n"
     ]
    },
    {
     "name": "stderr",
     "output_type": "stream",
     "text": [
      " 30%|███████████████████████▊                                                       | 301/1000 [12:48<30:46,  2.64s/it]"
     ]
    },
    {
     "name": "stdout",
     "output_type": "stream",
     "text": [
      "Epoch 300: Loss = 0.083285391330719\n"
     ]
    },
    {
     "name": "stderr",
     "output_type": "stream",
     "text": [
      " 40%|███████████████████████████████▋                                               | 401/1000 [14:58<09:37,  1.04it/s]"
     ]
    },
    {
     "name": "stdout",
     "output_type": "stream",
     "text": [
      "Epoch 400: Loss = 0.08288395404815674\n"
     ]
    },
    {
     "name": "stderr",
     "output_type": "stream",
     "text": [
      " 50%|███████████████████████████████████████▌                                       | 501/1000 [16:48<09:29,  1.14s/it]"
     ]
    },
    {
     "name": "stdout",
     "output_type": "stream",
     "text": [
      "Epoch 500: Loss = 0.08344098180532455\n"
     ]
    },
    {
     "name": "stderr",
     "output_type": "stream",
     "text": [
      " 60%|███████████████████████████████████████████████▍                               | 601/1000 [18:31<06:26,  1.03it/s]"
     ]
    },
    {
     "name": "stdout",
     "output_type": "stream",
     "text": [
      "Epoch 600: Loss = 0.08313179016113281\n"
     ]
    },
    {
     "name": "stderr",
     "output_type": "stream",
     "text": [
      " 70%|███████████████████████████████████████████████████████▍                       | 701/1000 [20:19<05:31,  1.11s/it]"
     ]
    },
    {
     "name": "stdout",
     "output_type": "stream",
     "text": [
      "Epoch 700: Loss = 0.08325696736574173\n"
     ]
    },
    {
     "name": "stderr",
     "output_type": "stream",
     "text": [
      " 80%|███████████████████████████████████████████████████████████████▎               | 801/1000 [22:06<04:47,  1.45s/it]"
     ]
    },
    {
     "name": "stdout",
     "output_type": "stream",
     "text": [
      "Epoch 800: Loss = 0.08347784727811813\n"
     ]
    },
    {
     "name": "stderr",
     "output_type": "stream",
     "text": [
      " 90%|███████████████████████████████████████████████████████████████████████▏       | 901/1000 [23:56<01:48,  1.10s/it]"
     ]
    },
    {
     "name": "stdout",
     "output_type": "stream",
     "text": [
      "Epoch 900: Loss = 0.0833701640367508\n"
     ]
    },
    {
     "name": "stderr",
     "output_type": "stream",
     "text": [
      "100%|██████████████████████████████████████████████████████████████████████████████| 1000/1000 [25:41<00:00,  1.54s/it]"
     ]
    },
    {
     "name": "stdout",
     "output_type": "stream",
     "text": [
      "Model saved as tinynrf.pth\n"
     ]
    },
    {
     "name": "stderr",
     "output_type": "stream",
     "text": [
      "\n"
     ]
    }
   ],
   "source": [
    "import torch\n",
    "import torch.nn as nn\n",
    "import torch.nn.functional as F\n",
    "import torch.optim as optim\n",
    "from tqdm import tqdm\n",
    "\n",
    "# ✅ Define the TinyNeRF model\n",
    "class TinyNeRF(nn.Module):\n",
    "    def __init__(self, input_dim=6, hidden_dim=128):\n",
    "        super(TinyNeRF, self).__init__()\n",
    "        self.fc1 = nn.Linear(input_dim, hidden_dim)\n",
    "        self.fc2 = nn.Linear(hidden_dim, hidden_dim)\n",
    "        self.fc3 = nn.Linear(hidden_dim, 4)  # 3 for RGB, 1 for density\n",
    "\n",
    "    def forward(self, x):\n",
    "        x = F.relu(self.fc1(x))\n",
    "        x = F.relu(self.fc2(x))\n",
    "        return self.fc3(x)\n",
    "\n",
    "# ✅ Function to sample rays\n",
    "def sample_rays(height, width, focal, c2w):\n",
    "    \"\"\"Generate ray origins and directions.\"\"\"\n",
    "    i, j = torch.meshgrid(torch.arange(width), torch.arange(height), indexing=\"ij\")\n",
    "    dirs = torch.stack([(i - width * 0.5) / focal, -(j - height * 0.5) / focal, -torch.ones_like(i)], dim=-1)\n",
    "    rays_d = torch.sum(dirs[..., None, :] * c2w[:3, :3], dim=-1)  # Rotate by camera pose\n",
    "    rays_o = c2w[:3, 3].expand(rays_d.shape)\n",
    "    return rays_o, rays_d\n",
    "\n",
    "# ✅ Volume Rendering Function (Fixed)\n",
    "def volume_rendering(model, rays_o, rays_d, num_samples=64):\n",
    "    \"\"\"Sample points along rays and render an image using NeRF.\"\"\"\n",
    "    t_vals = torch.linspace(0., 1., steps=num_samples).to(rays_o.device)  # Depth samples\n",
    "    points = rays_o[..., None, :] + rays_d[..., None, :] * t_vals[..., None]  # (H, W, S, 3)\n",
    "\n",
    "    view_dirs = rays_d / torch.norm(rays_d, dim=-1, keepdim=True)  # Normalize directions\n",
    "    view_dirs = view_dirs[..., None, :].expand(points.shape)  # Match shape\n",
    "\n",
    "    points = points.reshape(-1, 3)  # Flatten (N, 3)\n",
    "    view_dirs = view_dirs.reshape(-1, 3)  # 🔹 FIXED: Using `reshape()` instead of `view()`\n",
    "\n",
    "    inputs = torch.cat([points, view_dirs], dim=-1)  # Concatenate xyz + view dir (N, 6)\n",
    "\n",
    "    outputs = model(inputs)  # Get RGB + density\n",
    "    colors, sigma = torch.sigmoid(outputs[..., :3]), F.relu(outputs[..., 3])\n",
    "    \n",
    "    return colors.view(rays_o.shape[0], rays_o.shape[1], num_samples, 3)  # Reshape output\n",
    "\n",
    "# ✅ Initialize Model and Optimizer\n",
    "device = torch.device(\"cuda\" if torch.cuda.is_available() else \"cpu\")\n",
    "model = TinyNeRF().to(device)\n",
    "optimizer = optim.Adam(model.parameters(), lr=1e-3)\n",
    "criterion = nn.MSELoss()\n",
    "\n",
    "# ✅ Set up synthetic data\n",
    "height, width, focal = 100, 100, 50\n",
    "c2w = torch.eye(4)  # Dummy camera pose\n",
    "\n",
    "# ✅ Training Loop\n",
    "num_epochs = 1000\n",
    "for epoch in tqdm(range(num_epochs)):\n",
    "    rays_o, rays_d = sample_rays(height, width, focal, c2w)\n",
    "    colors_gt = torch.rand(height, width, 3).to(device)  # Dummy ground truth\n",
    "    colors_pred = volume_rendering(model, rays_o.to(device), rays_d.to(device))\n",
    "\n",
    "    loss = criterion(colors_pred.mean(dim=2), colors_gt)  # Compare mean color\n",
    "    optimizer.zero_grad()\n",
    "    loss.backward()\n",
    "    optimizer.step()\n",
    "\n",
    "    if epoch % 100 == 0:\n",
    "        print(f\"Epoch {epoch}: Loss = {loss.item()}\")\n",
    "\n",
    "# ✅ Save trained model\n",
    "torch.save(model.state_dict(), \"tinynrf.pth\")\n",
    "print(\"Model saved as tinynrf.pth\")\n"
   ]
  }
 ],
 "metadata": {
  "kernelspec": {
   "display_name": "Python 3 (ipykernel)",
   "language": "python",
   "name": "python3"
  },
  "language_info": {
   "codemirror_mode": {
    "name": "ipython",
    "version": 3
   },
   "file_extension": ".py",
   "mimetype": "text/x-python",
   "name": "python",
   "nbconvert_exporter": "python",
   "pygments_lexer": "ipython3",
   "version": "3.8.2"
  }
 },
 "nbformat": 4,
 "nbformat_minor": 5
}
